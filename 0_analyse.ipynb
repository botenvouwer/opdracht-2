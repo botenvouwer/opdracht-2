{
 "cells": [
  {
   "cell_type": "markdown",
   "source": [
    "# Analyse\n",
    "Alle zaken die je even los wil analyseren, doe in deze fidle notebook"
   ],
   "metadata": {
    "collapsed": false
   },
   "id": "4404169e7f698d8d"
  },
  {
   "cell_type": "code",
   "outputs": [],
   "source": [
    "import pandas as pd\n",
    "\n",
    "# Specify the encoding parameter as 'utf-8' when reading the CSV file\n",
    "df = pd.read_csv('/Users/olivier/PycharmProjects/opdracht-2/raw/employees.csv', encoding='cp1252')\n",
    "\n",
    "# Describe the DataFrame\n",
    "df.head()\n",
    "\n"
   ],
   "metadata": {
    "collapsed": false
   },
   "id": "75c3fefe5615f8e8",
   "execution_count": null
  },
  {
   "cell_type": "code",
   "outputs": [],
   "source": [
    "\n"
   ],
   "metadata": {
    "collapsed": false
   },
   "id": "7ce2783a4c947d8c",
   "execution_count": null
  },
  {
   "cell_type": "code",
   "outputs": [],
   "source": [],
   "metadata": {
    "collapsed": false
   },
   "id": "7090b81dfa52ea03"
  }
 ],
 "metadata": {
  "kernelspec": {
   "display_name": "Python 3",
   "language": "python",
   "name": "python3"
  },
  "language_info": {
   "codemirror_mode": {
    "name": "ipython",
    "version": 2
   },
   "file_extension": ".py",
   "mimetype": "text/x-python",
   "name": "python",
   "nbconvert_exporter": "python",
   "pygments_lexer": "ipython2",
   "version": "2.7.6"
  }
 },
 "nbformat": 4,
 "nbformat_minor": 5
}
