{
 "cells": [
  {
   "cell_type": "markdown",
   "source": [
    "# Analyse\n",
    "Alle zaken die je even los wil analyseren doe is in deze fidle notebook"
   ],
   "metadata": {
    "collapsed": false
   },
   "id": "4404169e7f698d8d"
  },
  {
   "cell_type": "code",
   "outputs": [],
   "source": [
    "# df = pandas.load_csv('order.csv')\n",
    "# df.describe()\n",
    "# etc."
   ],
   "metadata": {
    "collapsed": false
   },
   "id": "75c3fefe5615f8e8"
  }
 ],
 "metadata": {
  "kernelspec": {
   "display_name": "Python 3",
   "language": "python",
   "name": "python3"
  },
  "language_info": {
   "codemirror_mode": {
    "name": "ipython",
    "version": 2
   },
   "file_extension": ".py",
   "mimetype": "text/x-python",
   "name": "python",
   "nbconvert_exporter": "python",
   "pygments_lexer": "ipython2",
   "version": "2.7.6"
  }
 },
 "nbformat": 4,
 "nbformat_minor": 5
}
