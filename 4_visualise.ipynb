{
 "cells": [
  {
   "cell_type": "markdown",
   "source": [
    "# Visualisatie\n",
    "Werk hier per cell alle visualisaties uit.\n",
    "Voor elke business question moet er minimaal één visualisatie zijn."
   ],
   "metadata": {
    "collapsed": false
   },
   "id": "1b5261b574490078"
  },
  {
   "cell_type": "code",
   "outputs": [],
   "source": [],
   "metadata": {
    "collapsed": false
   },
   "id": "d7a5620df2867897"
  }
 ],
 "metadata": {
  "kernelspec": {
   "display_name": "Python 3",
   "language": "python",
   "name": "python3"
  },
  "language_info": {
   "codemirror_mode": {
    "name": "ipython",
    "version": 2
   },
   "file_extension": ".py",
   "mimetype": "text/x-python",
   "name": "python",
   "nbconvert_exporter": "python",
   "pygments_lexer": "ipython2",
   "version": "2.7.6"
  }
 },
 "nbformat": 4,
 "nbformat_minor": 5
}
